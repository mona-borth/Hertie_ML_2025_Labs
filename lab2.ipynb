{
 "cells": [
  {
   "cell_type": "markdown",
   "metadata": {
    "collapsed": true,
    "jupyter": {
     "outputs_hidden": true
    },
    "pycharm": {
     "name": "#%% md\n"
    }
   },
   "source": [
    "# Lab 2\n",
    "## Machine Learning"
   ]
  },
  {
   "cell_type": "markdown",
   "metadata": {
    "collapsed": false,
    "jupyter": {
     "outputs_hidden": false
    },
    "pycharm": {
     "name": "#%% md\n"
    }
   },
   "source": [
    "## Today\n",
    "\n",
    "* [Setup](#setup)\n",
    "* [Dataframes](#dataframes)\n",
    "* [Student Performance Dataset](#dataset)\n",
    "* [Ordinary Least Squares Regression with the Closed Form Solution](#ols)"
   ]
  },
  {
   "cell_type": "markdown",
   "metadata": {
    "collapsed": false,
    "jupyter": {
     "outputs_hidden": false
    },
    "pycharm": {
     "name": "#%% md\n"
    }
   },
   "source": [
    "## Setup the environment <a class=\"anchor\" id=\"setup\"></a>"
   ]
  },
  {
   "cell_type": "markdown",
   "id": "f9c2e583-a455-4610-b88f-36f6ad84571e",
   "metadata": {},
   "source": [
    "1. Open Your Terminal or Command Prompt\n",
    "2. Activate Your Conda Environment - make sure it is active before running the installation commands below!\n",
    "   `conda activate ml2025`\n",
    "3. Install Matplotlib\n",
    "   `conda install matplotlib`\n",
    "4. Install statsmodel\n",
    "   `conda install statsmodels`\n",
    "5. Install pandas\n",
    "   `conda install pandas`\n",
    "6. Install sklearn\n",
    "   `conda install scikit-learn`\n",
    "\n",
    "(or `pip install packagename` if you don't use conda or conda install doesn't work for some reason)"
   ]
  },
  {
   "cell_type": "markdown",
   "metadata": {},
   "source": [
    "A quick introduction to the packages we will use:  \n",
    "- **NumPy (`np`)**: NumPy (Numerical Python) provides support for large, multi-dimensional arrays and matrices, along with mathematical functions to operate on these arrays. It is highly optimized for numerical computations and serves as the foundation for many other scientific computing libraries, including Pandas. NumPy's `ndarray` is the fundamental data structure, offering efficient operations like element-wise calculations, linear algebra, and statistical functions.  \n",
    "\n",
    "- **Pandas (`pd`)**: Pandas is built on the NumPy package and its key data structure is called the **DataFrame**. DataFrames allow you to store and manipulate tabular data in rows of observations and columns of variables. Pandas provides functions for data cleaning, transformation, and analysis, making it the primary package for handling structured datasets. Unless you are working with large datasets where efficiency is key, this is the main package for loading and managing data.  \n",
    "\n",
    "- **Matplotlib (`plt`)**: Matplotlib is a powerful library for creating static, animated, and interactive visualizations in Python. It provides fine-grained control over plots, allowing users to create line charts, histograms, scatter plots, and more. The `pyplot` module (`plt`) is a commonly used interface that simplifies the process of creating and customizing plots. (Seaborn (`sns`) is a useful library built on top of Matplotlib for even nicer and more complex graphs.)  \n",
    "\n",
    "- **Statsmodels (`sm`)**: Statsmodels is a library for estimating and testing statistical models. It provides tools for performing regression analysis, hypothesis testing, and statistical data exploration. Compared to Scikit-learn, which is optimized for predictive modeling, Statsmodels focuses more on statistical inference, offering detailed output on model parameters, significance tests, and confidence intervals.  \n",
    "\n",
    "- **Scikit-learn (`sklearn`)**: Scikit-learn is one of the most widely used libraries for machine learning in Python. It provides efficient implementations of various machine learning algorithms, including regression, classification, clustering, and dimensionality reduction. In addition to modeling, scikit-learn includes utilities for data preprocessing, model selection, and evaluation, making it a comprehensive tool for building and testing predictive models. As sklearn is a huge package, we usually only import individual modules as we need them.\n",
    "\n",
    "By combining these libraries, we can efficiently analyze data, visualize trends, and build statistical models."
   ]
  },
  {
   "cell_type": "markdown",
   "metadata": {},
   "source": [
    "### Importing packages"
   ]
  },
  {
   "cell_type": "markdown",
   "metadata": {},
   "source": [
    "At the start of each notebook we must import the necessary libraries for the code to run.\n",
    "\n",
    "You will notice that each of these packages are being installed as a shortened version of their name. This helps keep code short. In practice for common packages this is standardised, and almost everyone will used the same ones which I have included below so it's good to keep them as they are."
   ]
  },
  {
   "cell_type": "code",
   "execution_count": 1,
   "id": "ff86b9fd-5683-4d6c-ae45-aaa00fb52e48",
   "metadata": {},
   "outputs": [],
   "source": [
    "import numpy as np\n",
    "import pandas as pd\n",
    "import matplotlib.pyplot as plt\n",
    "import statsmodels.api as sm"
   ]
  },
  {
   "cell_type": "markdown",
   "metadata": {},
   "source": [
    "As we have just installed these packages, it's a good practice to verify they has been successfully installed. "
   ]
  },
  {
   "cell_type": "code",
   "execution_count": 2,
   "metadata": {},
   "outputs": [
    {
     "name": "stdout",
     "output_type": "stream",
     "text": [
      "2.0.1\n",
      "2.2.3\n",
      "3.10.0\n",
      "0.14.4\n"
     ]
    }
   ],
   "source": [
    "print(np.__version__)\n",
    "print(pd.__version__)\n",
    "print(plt.matplotlib.__version__)\n",
    "print(sm.__version__)"
   ]
  },
  {
   "cell_type": "markdown",
   "metadata": {},
   "source": [
    "## Dataframes with pandas <a class=\"anchor\" id=\"dataframes\"></a>"
   ]
  },
  {
   "cell_type": "markdown",
   "metadata": {},
   "source": [
    "Use the pandas cheat sheet to help you with the following excercises: https://pandas.pydata.org/Pandas_Cheat_Sheet.pdf"
   ]
  },
  {
   "cell_type": "markdown",
   "id": "f9382e32-ab59-4d11-9d8c-12d4732f4e51",
   "metadata": {},
   "source": [
    "Let's create a DataFrame from a dictionary. Here, each key becomes a column in the DataFrame, and the values are the data entries for those columns. A dictionary is a built-in data type that stores collections of data as key-value pairs."
   ]
  },
  {
   "cell_type": "code",
   "execution_count": 3,
   "id": "829b3faf-9364-4e4d-8640-c209800b1b4d",
   "metadata": {},
   "outputs": [],
   "source": [
    "data_example = {\n",
    "    'Name': ['Alice', 'Bob', 'Charlie', 'David', 'Eve'],\n",
    "    'Age': [25, 30, 35, 40, 45],\n",
    "    'City': ['New York', 'Los Angeles', 'Chicago', 'Houston', 'Phoenix']\n",
    "}\n",
    "\n",
    "df = pd.DataFrame(data_example)\n",
    "\n",
    "#We can also do this directly in the DataFrame constructor but it's a bit more cumbersome:\n",
    "#df = pd.DataFrame(data_example, columns=['Name', 'Age', 'City'], index=['a', 'b', 'c', 'd', 'e'], City=['New York', 'Los Angeles', 'Chicago', 'Houston', 'Phoenix'])"
   ]
  },
  {
   "cell_type": "markdown",
   "id": "cf5ed5e4-c4ec-4507-8709-c0659a25aa01",
   "metadata": {},
   "source": [
    "Display the data frame to make sure it worked:"
   ]
  },
  {
   "cell_type": "code",
   "execution_count": 4,
   "id": "7ef28a25-b5ee-4808-88b1-31ce6419b32c",
   "metadata": {},
   "outputs": [
    {
     "data": {
      "text/html": [
       "<div>\n",
       "<style scoped>\n",
       "    .dataframe tbody tr th:only-of-type {\n",
       "        vertical-align: middle;\n",
       "    }\n",
       "\n",
       "    .dataframe tbody tr th {\n",
       "        vertical-align: top;\n",
       "    }\n",
       "\n",
       "    .dataframe thead th {\n",
       "        text-align: right;\n",
       "    }\n",
       "</style>\n",
       "<table border=\"1\" class=\"dataframe\">\n",
       "  <thead>\n",
       "    <tr style=\"text-align: right;\">\n",
       "      <th></th>\n",
       "      <th>Name</th>\n",
       "      <th>Age</th>\n",
       "      <th>City</th>\n",
       "    </tr>\n",
       "  </thead>\n",
       "  <tbody>\n",
       "    <tr>\n",
       "      <th>0</th>\n",
       "      <td>Alice</td>\n",
       "      <td>25</td>\n",
       "      <td>New York</td>\n",
       "    </tr>\n",
       "    <tr>\n",
       "      <th>1</th>\n",
       "      <td>Bob</td>\n",
       "      <td>30</td>\n",
       "      <td>Los Angeles</td>\n",
       "    </tr>\n",
       "    <tr>\n",
       "      <th>2</th>\n",
       "      <td>Charlie</td>\n",
       "      <td>35</td>\n",
       "      <td>Chicago</td>\n",
       "    </tr>\n",
       "    <tr>\n",
       "      <th>3</th>\n",
       "      <td>David</td>\n",
       "      <td>40</td>\n",
       "      <td>Houston</td>\n",
       "    </tr>\n",
       "    <tr>\n",
       "      <th>4</th>\n",
       "      <td>Eve</td>\n",
       "      <td>45</td>\n",
       "      <td>Phoenix</td>\n",
       "    </tr>\n",
       "  </tbody>\n",
       "</table>\n",
       "</div>"
      ],
      "text/plain": [
       "      Name  Age         City\n",
       "0    Alice   25     New York\n",
       "1      Bob   30  Los Angeles\n",
       "2  Charlie   35      Chicago\n",
       "3    David   40      Houston\n",
       "4      Eve   45      Phoenix"
      ]
     },
     "execution_count": 4,
     "metadata": {},
     "output_type": "execute_result"
    }
   ],
   "source": [
    "df"
   ]
  },
  {
   "cell_type": "markdown",
   "id": "26189145-a3bd-46d7-8b89-635baedba772",
   "metadata": {},
   "source": [
    "Select only the 'Name' and 'Age' Columns and display them:"
   ]
  },
  {
   "cell_type": "code",
   "execution_count": 6,
   "id": "a0ed7c60-561c-4a86-92f0-97f1edbfefb4",
   "metadata": {},
   "outputs": [
    {
     "data": {
      "text/html": [
       "<div>\n",
       "<style scoped>\n",
       "    .dataframe tbody tr th:only-of-type {\n",
       "        vertical-align: middle;\n",
       "    }\n",
       "\n",
       "    .dataframe tbody tr th {\n",
       "        vertical-align: top;\n",
       "    }\n",
       "\n",
       "    .dataframe thead th {\n",
       "        text-align: right;\n",
       "    }\n",
       "</style>\n",
       "<table border=\"1\" class=\"dataframe\">\n",
       "  <thead>\n",
       "    <tr style=\"text-align: right;\">\n",
       "      <th></th>\n",
       "      <th>Name</th>\n",
       "      <th>Age</th>\n",
       "    </tr>\n",
       "  </thead>\n",
       "  <tbody>\n",
       "    <tr>\n",
       "      <th>0</th>\n",
       "      <td>Alice</td>\n",
       "      <td>25</td>\n",
       "    </tr>\n",
       "    <tr>\n",
       "      <th>1</th>\n",
       "      <td>Bob</td>\n",
       "      <td>30</td>\n",
       "    </tr>\n",
       "    <tr>\n",
       "      <th>2</th>\n",
       "      <td>Charlie</td>\n",
       "      <td>35</td>\n",
       "    </tr>\n",
       "    <tr>\n",
       "      <th>3</th>\n",
       "      <td>David</td>\n",
       "      <td>40</td>\n",
       "    </tr>\n",
       "    <tr>\n",
       "      <th>4</th>\n",
       "      <td>Eve</td>\n",
       "      <td>45</td>\n",
       "    </tr>\n",
       "  </tbody>\n",
       "</table>\n",
       "</div>"
      ],
      "text/plain": [
       "      Name  Age\n",
       "0    Alice   25\n",
       "1      Bob   30\n",
       "2  Charlie   35\n",
       "3    David   40\n",
       "4      Eve   45"
      ]
     },
     "execution_count": 6,
     "metadata": {},
     "output_type": "execute_result"
    }
   ],
   "source": [
    "df[['Name','Age']]"
   ]
  },
  {
   "cell_type": "markdown",
   "id": "00510348-6f61-461a-9117-d2639e4fff21",
   "metadata": {},
   "source": [
    "Use .describe() to compute basic statistics for the numerical columns:"
   ]
  },
  {
   "cell_type": "code",
   "execution_count": 7,
   "id": "9bf74f50-4a92-452a-b595-65570ef31aa7",
   "metadata": {},
   "outputs": [
    {
     "data": {
      "text/html": [
       "<div>\n",
       "<style scoped>\n",
       "    .dataframe tbody tr th:only-of-type {\n",
       "        vertical-align: middle;\n",
       "    }\n",
       "\n",
       "    .dataframe tbody tr th {\n",
       "        vertical-align: top;\n",
       "    }\n",
       "\n",
       "    .dataframe thead th {\n",
       "        text-align: right;\n",
       "    }\n",
       "</style>\n",
       "<table border=\"1\" class=\"dataframe\">\n",
       "  <thead>\n",
       "    <tr style=\"text-align: right;\">\n",
       "      <th></th>\n",
       "      <th>Age</th>\n",
       "    </tr>\n",
       "  </thead>\n",
       "  <tbody>\n",
       "    <tr>\n",
       "      <th>count</th>\n",
       "      <td>5.000000</td>\n",
       "    </tr>\n",
       "    <tr>\n",
       "      <th>mean</th>\n",
       "      <td>35.000000</td>\n",
       "    </tr>\n",
       "    <tr>\n",
       "      <th>std</th>\n",
       "      <td>7.905694</td>\n",
       "    </tr>\n",
       "    <tr>\n",
       "      <th>min</th>\n",
       "      <td>25.000000</td>\n",
       "    </tr>\n",
       "    <tr>\n",
       "      <th>25%</th>\n",
       "      <td>30.000000</td>\n",
       "    </tr>\n",
       "    <tr>\n",
       "      <th>50%</th>\n",
       "      <td>35.000000</td>\n",
       "    </tr>\n",
       "    <tr>\n",
       "      <th>75%</th>\n",
       "      <td>40.000000</td>\n",
       "    </tr>\n",
       "    <tr>\n",
       "      <th>max</th>\n",
       "      <td>45.000000</td>\n",
       "    </tr>\n",
       "  </tbody>\n",
       "</table>\n",
       "</div>"
      ],
      "text/plain": [
       "             Age\n",
       "count   5.000000\n",
       "mean   35.000000\n",
       "std     7.905694\n",
       "min    25.000000\n",
       "25%    30.000000\n",
       "50%    35.000000\n",
       "75%    40.000000\n",
       "max    45.000000"
      ]
     },
     "execution_count": 7,
     "metadata": {},
     "output_type": "execute_result"
    }
   ],
   "source": [
    "df.describe()"
   ]
  },
  {
   "cell_type": "markdown",
   "id": "2badbcfb-31c7-45b6-b467-304739319b74",
   "metadata": {},
   "source": [
    "Subset the DataFrame for people older than 30 and display it:"
   ]
  },
  {
   "cell_type": "code",
   "execution_count": 9,
   "id": "be273ccf-5b4e-4320-93fe-324425438e98",
   "metadata": {},
   "outputs": [
    {
     "data": {
      "text/html": [
       "<div>\n",
       "<style scoped>\n",
       "    .dataframe tbody tr th:only-of-type {\n",
       "        vertical-align: middle;\n",
       "    }\n",
       "\n",
       "    .dataframe tbody tr th {\n",
       "        vertical-align: top;\n",
       "    }\n",
       "\n",
       "    .dataframe thead th {\n",
       "        text-align: right;\n",
       "    }\n",
       "</style>\n",
       "<table border=\"1\" class=\"dataframe\">\n",
       "  <thead>\n",
       "    <tr style=\"text-align: right;\">\n",
       "      <th></th>\n",
       "      <th>Name</th>\n",
       "      <th>Age</th>\n",
       "      <th>City</th>\n",
       "    </tr>\n",
       "  </thead>\n",
       "  <tbody>\n",
       "    <tr>\n",
       "      <th>2</th>\n",
       "      <td>Charlie</td>\n",
       "      <td>35</td>\n",
       "      <td>Chicago</td>\n",
       "    </tr>\n",
       "    <tr>\n",
       "      <th>3</th>\n",
       "      <td>David</td>\n",
       "      <td>40</td>\n",
       "      <td>Houston</td>\n",
       "    </tr>\n",
       "    <tr>\n",
       "      <th>4</th>\n",
       "      <td>Eve</td>\n",
       "      <td>45</td>\n",
       "      <td>Phoenix</td>\n",
       "    </tr>\n",
       "  </tbody>\n",
       "</table>\n",
       "</div>"
      ],
      "text/plain": [
       "      Name  Age     City\n",
       "2  Charlie   35  Chicago\n",
       "3    David   40  Houston\n",
       "4      Eve   45  Phoenix"
      ]
     },
     "execution_count": 9,
     "metadata": {},
     "output_type": "execute_result"
    }
   ],
   "source": [
    "df.query('Age > 30')"
   ]
  },
  {
   "cell_type": "markdown",
   "metadata": {},
   "source": [
    "Add a new column called 'YearOfBirth' for the year of birth of the people in the dataset (assuming they have already had their birthdays):"
   ]
  },
  {
   "cell_type": "code",
   "execution_count": 14,
   "metadata": {},
   "outputs": [],
   "source": [
    "df = df.assign(YearOfBirth = 2025-df['Age'])"
   ]
  },
  {
   "cell_type": "code",
   "execution_count": 15,
   "metadata": {},
   "outputs": [
    {
     "data": {
      "text/plain": [
       "0    2000\n",
       "1    1995\n",
       "2    1990\n",
       "3    1985\n",
       "4    1980\n",
       "Name: YearOfBirth, dtype: int64"
      ]
     },
     "execution_count": 15,
     "metadata": {},
     "output_type": "execute_result"
    }
   ],
   "source": [
    "df['YearOfBirth']"
   ]
  },
  {
   "cell_type": "code",
   "execution_count": 16,
   "metadata": {},
   "outputs": [
    {
     "data": {
      "text/html": [
       "<div>\n",
       "<style scoped>\n",
       "    .dataframe tbody tr th:only-of-type {\n",
       "        vertical-align: middle;\n",
       "    }\n",
       "\n",
       "    .dataframe tbody tr th {\n",
       "        vertical-align: top;\n",
       "    }\n",
       "\n",
       "    .dataframe thead th {\n",
       "        text-align: right;\n",
       "    }\n",
       "</style>\n",
       "<table border=\"1\" class=\"dataframe\">\n",
       "  <thead>\n",
       "    <tr style=\"text-align: right;\">\n",
       "      <th></th>\n",
       "      <th>Name</th>\n",
       "      <th>Age</th>\n",
       "      <th>City</th>\n",
       "      <th>YearOfBirth</th>\n",
       "    </tr>\n",
       "  </thead>\n",
       "  <tbody>\n",
       "    <tr>\n",
       "      <th>0</th>\n",
       "      <td>Alice</td>\n",
       "      <td>25</td>\n",
       "      <td>New York</td>\n",
       "      <td>2000</td>\n",
       "    </tr>\n",
       "    <tr>\n",
       "      <th>1</th>\n",
       "      <td>Bob</td>\n",
       "      <td>30</td>\n",
       "      <td>Los Angeles</td>\n",
       "      <td>1995</td>\n",
       "    </tr>\n",
       "    <tr>\n",
       "      <th>2</th>\n",
       "      <td>Charlie</td>\n",
       "      <td>35</td>\n",
       "      <td>Chicago</td>\n",
       "      <td>1990</td>\n",
       "    </tr>\n",
       "    <tr>\n",
       "      <th>3</th>\n",
       "      <td>David</td>\n",
       "      <td>40</td>\n",
       "      <td>Houston</td>\n",
       "      <td>1985</td>\n",
       "    </tr>\n",
       "    <tr>\n",
       "      <th>4</th>\n",
       "      <td>Eve</td>\n",
       "      <td>45</td>\n",
       "      <td>Phoenix</td>\n",
       "      <td>1980</td>\n",
       "    </tr>\n",
       "  </tbody>\n",
       "</table>\n",
       "</div>"
      ],
      "text/plain": [
       "      Name  Age         City  YearOfBirth\n",
       "0    Alice   25     New York         2000\n",
       "1      Bob   30  Los Angeles         1995\n",
       "2  Charlie   35      Chicago         1990\n",
       "3    David   40      Houston         1985\n",
       "4      Eve   45      Phoenix         1980"
      ]
     },
     "execution_count": 16,
     "metadata": {},
     "output_type": "execute_result"
    }
   ],
   "source": [
    "df"
   ]
  },
  {
   "cell_type": "markdown",
   "id": "327c2d42-13e6-4c56-9e21-8791393d921a",
   "metadata": {},
   "source": [
    "## Student Performance Dataset <a class=\"anchor\" id=\"dataset\"></a>"
   ]
  },
  {
   "cell_type": "markdown",
   "id": "7097a948-fc26-4980-b2e1-26b6632ff21f",
   "metadata": {},
   "source": [
    "The dataset used is the student performance dataset as discussed in the lecture this week. More information on the dataset can be found here: https://archive.ics.uci.edu/dataset/320/student+performance"
   ]
  },
  {
   "cell_type": "markdown",
   "metadata": {},
   "source": [
    "We are going to focus on the students maths results rather than their portuguese results.\n",
    "\n",
    "First read in the data from the CSV file into a pandas dataframe using pd.read_csv (the datset is called student-mat.csv):\n",
    "\n",
    "(Hint: you will want to set `\"sep=';'`, as this is the seperator used in the data)"
   ]
  },
  {
   "cell_type": "code",
   "execution_count": 19,
   "id": "2514f93c-01e8-4c96-8827-fa276d5f5f51",
   "metadata": {},
   "outputs": [],
   "source": [
    "data = pd.read_csv('student-mat.csv', sep=';')"
   ]
  },
  {
   "cell_type": "markdown",
   "metadata": {},
   "source": [
    "Now we print the shape of our data to see its dimensions."
   ]
  },
  {
   "cell_type": "code",
   "execution_count": 20,
   "id": "c69652c2-2844-490d-8d3f-df4119f736f7",
   "metadata": {},
   "outputs": [
    {
     "name": "stdout",
     "output_type": "stream",
     "text": [
      "(395, 33)\n"
     ]
    }
   ],
   "source": [
    "print(data.shape)"
   ]
  },
  {
   "cell_type": "markdown",
   "id": "84420f37-8b0f-42b4-8c58-0903861af61c",
   "metadata": {},
   "source": [
    "The data has should have 395 samples and 34 features."
   ]
  },
  {
   "cell_type": "markdown",
   "metadata": {},
   "source": [
    "Another useful function in pandas for seeing some overview information about datasets is .head(). This prints the first 5 rows of our data. Try it with our data:"
   ]
  },
  {
   "cell_type": "code",
   "execution_count": 21,
   "id": "c782aad4-d9c5-440e-9880-d756c900b9aa",
   "metadata": {},
   "outputs": [
    {
     "data": {
      "text/html": [
       "<div>\n",
       "<style scoped>\n",
       "    .dataframe tbody tr th:only-of-type {\n",
       "        vertical-align: middle;\n",
       "    }\n",
       "\n",
       "    .dataframe tbody tr th {\n",
       "        vertical-align: top;\n",
       "    }\n",
       "\n",
       "    .dataframe thead th {\n",
       "        text-align: right;\n",
       "    }\n",
       "</style>\n",
       "<table border=\"1\" class=\"dataframe\">\n",
       "  <thead>\n",
       "    <tr style=\"text-align: right;\">\n",
       "      <th></th>\n",
       "      <th>school</th>\n",
       "      <th>sex</th>\n",
       "      <th>age</th>\n",
       "      <th>address</th>\n",
       "      <th>famsize</th>\n",
       "      <th>Pstatus</th>\n",
       "      <th>Medu</th>\n",
       "      <th>Fedu</th>\n",
       "      <th>Mjob</th>\n",
       "      <th>Fjob</th>\n",
       "      <th>...</th>\n",
       "      <th>famrel</th>\n",
       "      <th>freetime</th>\n",
       "      <th>goout</th>\n",
       "      <th>Dalc</th>\n",
       "      <th>Walc</th>\n",
       "      <th>health</th>\n",
       "      <th>absences</th>\n",
       "      <th>G1</th>\n",
       "      <th>G2</th>\n",
       "      <th>G3</th>\n",
       "    </tr>\n",
       "  </thead>\n",
       "  <tbody>\n",
       "    <tr>\n",
       "      <th>0</th>\n",
       "      <td>GP</td>\n",
       "      <td>F</td>\n",
       "      <td>18</td>\n",
       "      <td>U</td>\n",
       "      <td>GT3</td>\n",
       "      <td>A</td>\n",
       "      <td>4</td>\n",
       "      <td>4</td>\n",
       "      <td>at_home</td>\n",
       "      <td>teacher</td>\n",
       "      <td>...</td>\n",
       "      <td>4</td>\n",
       "      <td>3</td>\n",
       "      <td>4</td>\n",
       "      <td>1</td>\n",
       "      <td>1</td>\n",
       "      <td>3</td>\n",
       "      <td>6</td>\n",
       "      <td>5</td>\n",
       "      <td>6</td>\n",
       "      <td>6</td>\n",
       "    </tr>\n",
       "    <tr>\n",
       "      <th>1</th>\n",
       "      <td>GP</td>\n",
       "      <td>F</td>\n",
       "      <td>17</td>\n",
       "      <td>U</td>\n",
       "      <td>GT3</td>\n",
       "      <td>T</td>\n",
       "      <td>1</td>\n",
       "      <td>1</td>\n",
       "      <td>at_home</td>\n",
       "      <td>other</td>\n",
       "      <td>...</td>\n",
       "      <td>5</td>\n",
       "      <td>3</td>\n",
       "      <td>3</td>\n",
       "      <td>1</td>\n",
       "      <td>1</td>\n",
       "      <td>3</td>\n",
       "      <td>4</td>\n",
       "      <td>5</td>\n",
       "      <td>5</td>\n",
       "      <td>6</td>\n",
       "    </tr>\n",
       "    <tr>\n",
       "      <th>2</th>\n",
       "      <td>GP</td>\n",
       "      <td>F</td>\n",
       "      <td>15</td>\n",
       "      <td>U</td>\n",
       "      <td>LE3</td>\n",
       "      <td>T</td>\n",
       "      <td>1</td>\n",
       "      <td>1</td>\n",
       "      <td>at_home</td>\n",
       "      <td>other</td>\n",
       "      <td>...</td>\n",
       "      <td>4</td>\n",
       "      <td>3</td>\n",
       "      <td>2</td>\n",
       "      <td>2</td>\n",
       "      <td>3</td>\n",
       "      <td>3</td>\n",
       "      <td>10</td>\n",
       "      <td>7</td>\n",
       "      <td>8</td>\n",
       "      <td>10</td>\n",
       "    </tr>\n",
       "    <tr>\n",
       "      <th>3</th>\n",
       "      <td>GP</td>\n",
       "      <td>F</td>\n",
       "      <td>15</td>\n",
       "      <td>U</td>\n",
       "      <td>GT3</td>\n",
       "      <td>T</td>\n",
       "      <td>4</td>\n",
       "      <td>2</td>\n",
       "      <td>health</td>\n",
       "      <td>services</td>\n",
       "      <td>...</td>\n",
       "      <td>3</td>\n",
       "      <td>2</td>\n",
       "      <td>2</td>\n",
       "      <td>1</td>\n",
       "      <td>1</td>\n",
       "      <td>5</td>\n",
       "      <td>2</td>\n",
       "      <td>15</td>\n",
       "      <td>14</td>\n",
       "      <td>15</td>\n",
       "    </tr>\n",
       "    <tr>\n",
       "      <th>4</th>\n",
       "      <td>GP</td>\n",
       "      <td>F</td>\n",
       "      <td>16</td>\n",
       "      <td>U</td>\n",
       "      <td>GT3</td>\n",
       "      <td>T</td>\n",
       "      <td>3</td>\n",
       "      <td>3</td>\n",
       "      <td>other</td>\n",
       "      <td>other</td>\n",
       "      <td>...</td>\n",
       "      <td>4</td>\n",
       "      <td>3</td>\n",
       "      <td>2</td>\n",
       "      <td>1</td>\n",
       "      <td>2</td>\n",
       "      <td>5</td>\n",
       "      <td>4</td>\n",
       "      <td>6</td>\n",
       "      <td>10</td>\n",
       "      <td>10</td>\n",
       "    </tr>\n",
       "  </tbody>\n",
       "</table>\n",
       "<p>5 rows × 33 columns</p>\n",
       "</div>"
      ],
      "text/plain": [
       "  school sex  age address famsize Pstatus  Medu  Fedu     Mjob      Fjob  ...  \\\n",
       "0     GP   F   18       U     GT3       A     4     4  at_home   teacher  ...   \n",
       "1     GP   F   17       U     GT3       T     1     1  at_home     other  ...   \n",
       "2     GP   F   15       U     LE3       T     1     1  at_home     other  ...   \n",
       "3     GP   F   15       U     GT3       T     4     2   health  services  ...   \n",
       "4     GP   F   16       U     GT3       T     3     3    other     other  ...   \n",
       "\n",
       "  famrel freetime  goout  Dalc  Walc health absences  G1  G2  G3  \n",
       "0      4        3      4     1     1      3        6   5   6   6  \n",
       "1      5        3      3     1     1      3        4   5   5   6  \n",
       "2      4        3      2     2     3      3       10   7   8  10  \n",
       "3      3        2      2     1     1      5        2  15  14  15  \n",
       "4      4        3      2     1     2      5        4   6  10  10  \n",
       "\n",
       "[5 rows x 33 columns]"
      ]
     },
     "execution_count": 21,
     "metadata": {},
     "output_type": "execute_result"
    }
   ],
   "source": [
    "data.head()"
   ]
  },
  {
   "cell_type": "markdown",
   "id": "c09091b6-393a-4abf-99c6-ad2a2410e302",
   "metadata": {},
   "source": [
    "#### Checking for Missing Data"
   ]
  },
  {
   "cell_type": "markdown",
   "metadata": {},
   "source": [
    "We can run the following code to check for NA values. \n",
    "\n",
    "(There are some subtle differences between `null` which is the default in python, `nan` (Not a Number) from NumPy and the new `pd.NA` value specific to pandas, for our case it's mostly plenty to treat all as missing values, the vast majority you will encounter will be `null`, so that's what we will use.)"
   ]
  },
  {
   "cell_type": "code",
   "execution_count": 22,
   "id": "0536922f-e411-494d-9dae-6afaea3be735",
   "metadata": {},
   "outputs": [
    {
     "name": "stdout",
     "output_type": "stream",
     "text": [
      "Index([], dtype='object')\n"
     ]
    },
    {
     "data": {
      "text/plain": [
       "(0,)"
      ]
     },
     "execution_count": 22,
     "metadata": {},
     "output_type": "execute_result"
    }
   ],
   "source": [
    "feat_miss = data.columns[data.isnull().any()]\n",
    "\n",
    "print(feat_miss)\n",
    "feat_miss.shape"
   ]
  },
  {
   "cell_type": "markdown",
   "metadata": {},
   "source": [
    "Luckily in this case we don't have any missing data. We will look at missingness and imputation in future labs however, as most Machine Learning algorithms are not able to natively handle missing values, and many datasets contain them."
   ]
  },
  {
   "cell_type": "markdown",
   "id": "94523934-4628-43d4-ab0a-2b568eaec3e8",
   "metadata": {},
   "source": [
    "### Summary Statistics:\n"
   ]
  },
  {
   "cell_type": "markdown",
   "metadata": {},
   "source": [
    "We want to see some of the headline information about our data before we analyse it. For this we can use the .describe() function we learned above."
   ]
  },
  {
   "cell_type": "code",
   "execution_count": 23,
   "id": "2a500341-5a70-4d2d-a831-5e6927759664",
   "metadata": {},
   "outputs": [
    {
     "data": {
      "text/html": [
       "<div>\n",
       "<style scoped>\n",
       "    .dataframe tbody tr th:only-of-type {\n",
       "        vertical-align: middle;\n",
       "    }\n",
       "\n",
       "    .dataframe tbody tr th {\n",
       "        vertical-align: top;\n",
       "    }\n",
       "\n",
       "    .dataframe thead th {\n",
       "        text-align: right;\n",
       "    }\n",
       "</style>\n",
       "<table border=\"1\" class=\"dataframe\">\n",
       "  <thead>\n",
       "    <tr style=\"text-align: right;\">\n",
       "      <th></th>\n",
       "      <th>age</th>\n",
       "      <th>Medu</th>\n",
       "      <th>Fedu</th>\n",
       "      <th>traveltime</th>\n",
       "      <th>studytime</th>\n",
       "      <th>failures</th>\n",
       "      <th>famrel</th>\n",
       "      <th>freetime</th>\n",
       "      <th>goout</th>\n",
       "      <th>Dalc</th>\n",
       "      <th>Walc</th>\n",
       "      <th>health</th>\n",
       "      <th>absences</th>\n",
       "      <th>G1</th>\n",
       "      <th>G2</th>\n",
       "      <th>G3</th>\n",
       "    </tr>\n",
       "  </thead>\n",
       "  <tbody>\n",
       "    <tr>\n",
       "      <th>count</th>\n",
       "      <td>395.000000</td>\n",
       "      <td>395.000000</td>\n",
       "      <td>395.000000</td>\n",
       "      <td>395.000000</td>\n",
       "      <td>395.000000</td>\n",
       "      <td>395.000000</td>\n",
       "      <td>395.000000</td>\n",
       "      <td>395.000000</td>\n",
       "      <td>395.000000</td>\n",
       "      <td>395.000000</td>\n",
       "      <td>395.000000</td>\n",
       "      <td>395.000000</td>\n",
       "      <td>395.000000</td>\n",
       "      <td>395.000000</td>\n",
       "      <td>395.000000</td>\n",
       "      <td>395.000000</td>\n",
       "    </tr>\n",
       "    <tr>\n",
       "      <th>mean</th>\n",
       "      <td>16.696203</td>\n",
       "      <td>2.749367</td>\n",
       "      <td>2.521519</td>\n",
       "      <td>1.448101</td>\n",
       "      <td>2.035443</td>\n",
       "      <td>0.334177</td>\n",
       "      <td>3.944304</td>\n",
       "      <td>3.235443</td>\n",
       "      <td>3.108861</td>\n",
       "      <td>1.481013</td>\n",
       "      <td>2.291139</td>\n",
       "      <td>3.554430</td>\n",
       "      <td>5.708861</td>\n",
       "      <td>10.908861</td>\n",
       "      <td>10.713924</td>\n",
       "      <td>10.415190</td>\n",
       "    </tr>\n",
       "    <tr>\n",
       "      <th>std</th>\n",
       "      <td>1.276043</td>\n",
       "      <td>1.094735</td>\n",
       "      <td>1.088201</td>\n",
       "      <td>0.697505</td>\n",
       "      <td>0.839240</td>\n",
       "      <td>0.743651</td>\n",
       "      <td>0.896659</td>\n",
       "      <td>0.998862</td>\n",
       "      <td>1.113278</td>\n",
       "      <td>0.890741</td>\n",
       "      <td>1.287897</td>\n",
       "      <td>1.390303</td>\n",
       "      <td>8.003096</td>\n",
       "      <td>3.319195</td>\n",
       "      <td>3.761505</td>\n",
       "      <td>4.581443</td>\n",
       "    </tr>\n",
       "    <tr>\n",
       "      <th>min</th>\n",
       "      <td>15.000000</td>\n",
       "      <td>0.000000</td>\n",
       "      <td>0.000000</td>\n",
       "      <td>1.000000</td>\n",
       "      <td>1.000000</td>\n",
       "      <td>0.000000</td>\n",
       "      <td>1.000000</td>\n",
       "      <td>1.000000</td>\n",
       "      <td>1.000000</td>\n",
       "      <td>1.000000</td>\n",
       "      <td>1.000000</td>\n",
       "      <td>1.000000</td>\n",
       "      <td>0.000000</td>\n",
       "      <td>3.000000</td>\n",
       "      <td>0.000000</td>\n",
       "      <td>0.000000</td>\n",
       "    </tr>\n",
       "    <tr>\n",
       "      <th>25%</th>\n",
       "      <td>16.000000</td>\n",
       "      <td>2.000000</td>\n",
       "      <td>2.000000</td>\n",
       "      <td>1.000000</td>\n",
       "      <td>1.000000</td>\n",
       "      <td>0.000000</td>\n",
       "      <td>4.000000</td>\n",
       "      <td>3.000000</td>\n",
       "      <td>2.000000</td>\n",
       "      <td>1.000000</td>\n",
       "      <td>1.000000</td>\n",
       "      <td>3.000000</td>\n",
       "      <td>0.000000</td>\n",
       "      <td>8.000000</td>\n",
       "      <td>9.000000</td>\n",
       "      <td>8.000000</td>\n",
       "    </tr>\n",
       "    <tr>\n",
       "      <th>50%</th>\n",
       "      <td>17.000000</td>\n",
       "      <td>3.000000</td>\n",
       "      <td>2.000000</td>\n",
       "      <td>1.000000</td>\n",
       "      <td>2.000000</td>\n",
       "      <td>0.000000</td>\n",
       "      <td>4.000000</td>\n",
       "      <td>3.000000</td>\n",
       "      <td>3.000000</td>\n",
       "      <td>1.000000</td>\n",
       "      <td>2.000000</td>\n",
       "      <td>4.000000</td>\n",
       "      <td>4.000000</td>\n",
       "      <td>11.000000</td>\n",
       "      <td>11.000000</td>\n",
       "      <td>11.000000</td>\n",
       "    </tr>\n",
       "    <tr>\n",
       "      <th>75%</th>\n",
       "      <td>18.000000</td>\n",
       "      <td>4.000000</td>\n",
       "      <td>3.000000</td>\n",
       "      <td>2.000000</td>\n",
       "      <td>2.000000</td>\n",
       "      <td>0.000000</td>\n",
       "      <td>5.000000</td>\n",
       "      <td>4.000000</td>\n",
       "      <td>4.000000</td>\n",
       "      <td>2.000000</td>\n",
       "      <td>3.000000</td>\n",
       "      <td>5.000000</td>\n",
       "      <td>8.000000</td>\n",
       "      <td>13.000000</td>\n",
       "      <td>13.000000</td>\n",
       "      <td>14.000000</td>\n",
       "    </tr>\n",
       "    <tr>\n",
       "      <th>max</th>\n",
       "      <td>22.000000</td>\n",
       "      <td>4.000000</td>\n",
       "      <td>4.000000</td>\n",
       "      <td>4.000000</td>\n",
       "      <td>4.000000</td>\n",
       "      <td>3.000000</td>\n",
       "      <td>5.000000</td>\n",
       "      <td>5.000000</td>\n",
       "      <td>5.000000</td>\n",
       "      <td>5.000000</td>\n",
       "      <td>5.000000</td>\n",
       "      <td>5.000000</td>\n",
       "      <td>75.000000</td>\n",
       "      <td>19.000000</td>\n",
       "      <td>19.000000</td>\n",
       "      <td>20.000000</td>\n",
       "    </tr>\n",
       "  </tbody>\n",
       "</table>\n",
       "</div>"
      ],
      "text/plain": [
       "              age        Medu        Fedu  traveltime   studytime    failures  \\\n",
       "count  395.000000  395.000000  395.000000  395.000000  395.000000  395.000000   \n",
       "mean    16.696203    2.749367    2.521519    1.448101    2.035443    0.334177   \n",
       "std      1.276043    1.094735    1.088201    0.697505    0.839240    0.743651   \n",
       "min     15.000000    0.000000    0.000000    1.000000    1.000000    0.000000   \n",
       "25%     16.000000    2.000000    2.000000    1.000000    1.000000    0.000000   \n",
       "50%     17.000000    3.000000    2.000000    1.000000    2.000000    0.000000   \n",
       "75%     18.000000    4.000000    3.000000    2.000000    2.000000    0.000000   \n",
       "max     22.000000    4.000000    4.000000    4.000000    4.000000    3.000000   \n",
       "\n",
       "           famrel    freetime       goout        Dalc        Walc      health  \\\n",
       "count  395.000000  395.000000  395.000000  395.000000  395.000000  395.000000   \n",
       "mean     3.944304    3.235443    3.108861    1.481013    2.291139    3.554430   \n",
       "std      0.896659    0.998862    1.113278    0.890741    1.287897    1.390303   \n",
       "min      1.000000    1.000000    1.000000    1.000000    1.000000    1.000000   \n",
       "25%      4.000000    3.000000    2.000000    1.000000    1.000000    3.000000   \n",
       "50%      4.000000    3.000000    3.000000    1.000000    2.000000    4.000000   \n",
       "75%      5.000000    4.000000    4.000000    2.000000    3.000000    5.000000   \n",
       "max      5.000000    5.000000    5.000000    5.000000    5.000000    5.000000   \n",
       "\n",
       "         absences          G1          G2          G3  \n",
       "count  395.000000  395.000000  395.000000  395.000000  \n",
       "mean     5.708861   10.908861   10.713924   10.415190  \n",
       "std      8.003096    3.319195    3.761505    4.581443  \n",
       "min      0.000000    3.000000    0.000000    0.000000  \n",
       "25%      0.000000    8.000000    9.000000    8.000000  \n",
       "50%      4.000000   11.000000   11.000000   11.000000  \n",
       "75%      8.000000   13.000000   13.000000   14.000000  \n",
       "max     75.000000   19.000000   19.000000   20.000000  "
      ]
     },
     "execution_count": 23,
     "metadata": {},
     "output_type": "execute_result"
    }
   ],
   "source": [
    "data.describe()"
   ]
  },
  {
   "cell_type": "markdown",
   "id": "44a3c693-8ec8-4687-b239-be4e3ce63094",
   "metadata": {},
   "source": [
    "This gives us the following info:\n",
    "\n",
    "count: The number of non-missing (non-NaN) values.\n",
    "\n",
    "mean: The mean of the values.\n",
    "\n",
    "std: The standard deviation of the values.\n",
    "\n",
    "min: The minimum value.\n",
    "\n",
    "25%: The 25th percentile (first quartile).\n",
    "\n",
    "50% (median): The median of the data.\n",
    "\n",
    "75%: The 75th percentile (third quartile).\n",
    "\n",
    "max: The maximum value."
   ]
  },
  {
   "cell_type": "markdown",
   "id": "ea388b86-ee97-4e17-a68b-9462c480a2d2",
   "metadata": {},
   "source": [
    "We can also specify percentiles other than the default values of 25, 50, 75:"
   ]
  },
  {
   "cell_type": "code",
   "execution_count": 24,
   "id": "972ad2bb-1187-453c-8f2d-e3fdc3925203",
   "metadata": {},
   "outputs": [
    {
     "name": "stdout",
     "output_type": "stream",
     "text": [
      "              age        Medu        Fedu  traveltime   studytime    failures  \\\n",
      "count  395.000000  395.000000  395.000000  395.000000  395.000000  395.000000   \n",
      "mean    16.696203    2.749367    2.521519    1.448101    2.035443    0.334177   \n",
      "std      1.276043    1.094735    1.088201    0.697505    0.839240    0.743651   \n",
      "min     15.000000    0.000000    0.000000    1.000000    1.000000    0.000000   \n",
      "20%     15.000000    2.000000    1.000000    1.000000    1.000000    0.000000   \n",
      "40%     16.000000    2.000000    2.000000    1.000000    2.000000    0.000000   \n",
      "50%     17.000000    3.000000    2.000000    1.000000    2.000000    0.000000   \n",
      "60%     17.000000    3.000000    3.000000    1.000000    2.000000    0.000000   \n",
      "80%     18.000000    4.000000    4.000000    2.000000    3.000000    1.000000   \n",
      "max     22.000000    4.000000    4.000000    4.000000    4.000000    3.000000   \n",
      "\n",
      "           famrel    freetime       goout        Dalc        Walc      health  \\\n",
      "count  395.000000  395.000000  395.000000  395.000000  395.000000  395.000000   \n",
      "mean     3.944304    3.235443    3.108861    1.481013    2.291139    3.554430   \n",
      "std      0.896659    0.998862    1.113278    0.890741    1.287897    1.390303   \n",
      "min      1.000000    1.000000    1.000000    1.000000    1.000000    1.000000   \n",
      "20%      3.000000    2.000000    2.000000    1.000000    1.000000    2.000000   \n",
      "40%      4.000000    3.000000    3.000000    1.000000    2.000000    3.000000   \n",
      "50%      4.000000    3.000000    3.000000    1.000000    2.000000    4.000000   \n",
      "60%      4.000000    3.000000    3.000000    1.000000    3.000000    4.000000   \n",
      "80%      5.000000    4.000000    4.000000    2.000000    3.200000    5.000000   \n",
      "max      5.000000    5.000000    5.000000    5.000000    5.000000    5.000000   \n",
      "\n",
      "         absences          G1          G2          G3  \n",
      "count  395.000000  395.000000  395.000000  395.000000  \n",
      "mean     5.708861   10.908861   10.713924   10.415190  \n",
      "std      8.003096    3.319195    3.761505    4.581443  \n",
      "min      0.000000    3.000000    0.000000    0.000000  \n",
      "20%      0.000000    8.000000    8.000000    8.000000  \n",
      "40%      2.000000   10.000000   10.000000   10.000000  \n",
      "50%      4.000000   11.000000   11.000000   11.000000  \n",
      "60%      4.000000   12.000000   12.000000   12.000000  \n",
      "80%     10.000000   14.000000   14.000000   14.000000  \n",
      "max     75.000000   19.000000   19.000000   20.000000  \n"
     ]
    }
   ],
   "source": [
    "custom_percentiles = data.describe(percentiles=[.20, .40, .60, .80])\n",
    "print(custom_percentiles)"
   ]
  },
  {
   "cell_type": "markdown",
   "metadata": {},
   "source": [
    "Let's plot the distribution of the final grade G3"
   ]
  },
  {
   "cell_type": "code",
   "execution_count": 25,
   "id": "a6618374-921d-453f-896e-1bf4bfadeaa9",
   "metadata": {},
   "outputs": [
    {
     "data": {
      "text/plain": [
       "<Axes: >"
      ]
     },
     "execution_count": 25,
     "metadata": {},
     "output_type": "execute_result"
    },
    {
     "data": {
      "image/png": "[encoded data removed]",
      "text/plain": [
       "<Figure size 640x480 with 1 Axes>"
      ]
     },
     "metadata": {},
     "output_type": "display_data"
    }
   ],
   "source": [
    "data['G3'].hist(bins=20)"
   ]
  },
  {
   "cell_type": "markdown",
   "metadata": {},
   "source": [
    "The plot above just used a simple line of code, but using matplotlib we can make much more impressive graphs. Below is an example of using matplotlip to create a scatter plot of G1 vs G3."
   ]
  },
  {
   "cell_type": "code",
   "execution_count": 26,
   "metadata": {},
   "outputs": [
    {
     "data": {
      "image/png": "[encoded data removed]",
      "text/plain": [
       "<Figure size 640x480 with 1 Axes>"
      ]
     },
     "metadata": {},
     "output_type": "display_data"
    }
   ],
   "source": [
    "plt.scatter(data['G1'], data['G3'])\n",
    "plt.xlabel('G1')\n",
    "plt.ylabel('G3')\n",
    "plt.show()"
   ]
  },
  {
   "cell_type": "markdown",
   "metadata": {},
   "source": [
    "Use matplotlib to make some more plots of the data to try discover some interesting patterns. See if you can get creative with multiple variables, colours etc.\n",
    "\n",
    "Here is a cheatsheet for matplotlib: https://matplotlib.org/cheatsheets/cheatsheets.pdf\n"
   ]
  },
  {
   "cell_type": "code",
   "execution_count": 37,
   "metadata": {},
   "outputs": [
    {
     "data": {
      "image/png": "[encoded data removed]",
      "text/plain": [
       "<Figure size 640x480 with 1 Axes>"
      ]
     },
     "metadata": {},
     "output_type": "display_data"
    }
   ],
   "source": [
    "plt.scatter(data['G3'],data['Dalc'])\n",
    "plt.ylabel('Workday Alc')\n",
    "plt.xlabel(\"G3\")\n",
    "plt.show()"
   ]
  },
  {
   "cell_type": "markdown",
   "id": "310b09ac-161a-4087-9211-95b50cc53293",
   "metadata": {},
   "source": [
    "### Splitting the data into training and test sets"
   ]
  },
  {
   "cell_type": "markdown",
   "metadata": {},
   "source": [
    "First we want to split our data into seperate dataframes for X and Y. This is common practice as many of the machine learning algorithms we use as well as regularisation and imputation functions will expect the data split up. It is very important to keep track of both and ensure they still match after any preprocessing. If your X values no longer align with your Y targets you will get very wrong results!\n",
    "\n",
    "For this case we want to do a very simple regression so we use the final year grade as our target variable, and first period grade as our only explanatory variable to start."
   ]
  },
  {
   "cell_type": "code",
   "execution_count": 39,
   "metadata": {},
   "outputs": [],
   "source": [
    "X = data['G1'].values\n",
    "y = data['G3'].values\n",
    "\n",
    "#As we have a single feature, we need to reshape it to a 2D array or some of our functions will give errors.\n",
    "X= X.reshape(-1, 1)\n",
    "y = y.reshape(-1, 1)"
   ]
  },
  {
   "cell_type": "markdown",
   "id": "797a08c8-af3b-4f6a-9cca-e0a537191973",
   "metadata": {},
   "source": [
    "The **from sklearn.model_selection import train_test_split** command imports the train_test_split function from scikit-learn specifically, which is used to split the dataset into training and test sets."
   ]
  },
  {
   "cell_type": "code",
   "execution_count": 41,
   "id": "8cb40371-c983-495f-a59d-15bed2faee6a",
   "metadata": {},
   "outputs": [],
   "source": [
    "from sklearn.model_selection import train_test_split"
   ]
  },
  {
   "cell_type": "markdown",
   "metadata": {},
   "source": [
    "Setting the Random Seed: **seed = 0** sets the seed for the random number generator to 0. This ensures that the results are reproducible; anyone running this code with the same dataset and seed will get the same split of data. Generally this should be set at the start of your notebook.\n",
    "\n",
    "Splitting the Dataset: The code below splits the features (X) and the target variable (y) into training and test sets. 20% (test_size = 0.2) of the data is allocated to the test set, while the remaining 80% is used for training the model.\n",
    "The random_state = seed parameter ensures that the split is reproducible."
   ]
  },
  {
   "cell_type": "code",
   "execution_count": 60,
   "id": "3ffed90c-235d-4db9-98b1-a55fba6f8d75",
   "metadata": {},
   "outputs": [
    {
     "name": "stdout",
     "output_type": "stream",
     "text": [
      "(395, 1)\n",
      "(395, 1)\n",
      "(316, 1)\n",
      "(316, 1)\n",
      "(79, 1)\n",
      "(79, 1)\n"
     ]
    }
   ],
   "source": [
    "seed = 0\n",
    "\n",
    "X_train, X_test, y_train, y_test = train_test_split(X, y, test_size = 0.2, random_state = seed)\n",
    "\n",
    "print(X.shape)\n",
    "print(y.shape)\n",
    "print(X_train.shape)\n",
    "print(y_train.shape)\n",
    "print(X_test.shape)\n",
    "print(y_test.shape)"
   ]
  },
  {
   "cell_type": "markdown",
   "id": "598586e5-fe9b-400c-a201-7a39ceb45723",
   "metadata": {},
   "source": [
    "### Standardization:\n",
    "Standardization refers to the process of transforming each feature in your data so that it has a mean of 0 and a standard deviation of 1. This is done by subtracting the mean of each feature and then dividing by the standard deviation for each feature. The formula used is:\n",
    "\n",
    "z=(x-μ)/σ\n",
    "Here, x is the original feature value\n",
    "μ is the mean of the feature, and \n",
    "σ is the standard deviation of the feature.\n",
    "\n",
    "This is very useful for machine learning because it can speed up convergence, enhance numerical stability and prevent features from dominating. The main downside is that it makes interpretation harder, but as we are only concerned with prediction that's not an issue for us! "
   ]
  },
  {
   "cell_type": "markdown",
   "id": "8072f6e9-b2f5-4fc8-99c9-94ae5b72591e",
   "metadata": {},
   "source": [
    "To do this follow the following steps:\n",
    "\n",
    "1. Importing StandardScaler:**from sklearn.preprocessing import StandardScaler** imports the StandardScaler class, which provides the functionality to standardize features.\n",
    "\n",
    "2. Creating a StandardScaler Instance: **sc = StandardScaler()** creates an instance of StandardScaler. This instance will then be used to compute the mean and standard deviation for each feature in the dataset, and by keeping the same instance across the testing and training sets we ensure consistancy.\n",
    "   \n",
    "3. Fitting and Transforming the Training Data: **X_train = sc.fit_transform(X_train)** computes the mean and standard deviation of each feature in the training set X_train, and then standardizes the training set by applying the transformation z=(x-μ)/σ. (​The fit_transform method is a combination of fit (to compute the scaling parameters) and transform (to apply the standardization).) The standardized training data is then reassigned to X_train.\n",
    "\n",
    "4. Transforming the Testing Data: **X_test = sc.transform(X_test)** applies the same transformation to X_test using the mean and standard deviation calculated from the training set. It's crucial to use the parameters from the training set to ensure the model evaluates on the same scale. The standardized test data is reassigned to X_test.\n"
   ]
  },
  {
   "cell_type": "code",
   "execution_count": 61,
   "id": "78e815b0-c432-49a4-8023-78be47f094a5",
   "metadata": {},
   "outputs": [],
   "source": [
    "\n",
    "from sklearn.preprocessing import StandardScaler"
   ]
  },
  {
   "cell_type": "code",
   "execution_count": 62,
   "metadata": {},
   "outputs": [],
   "source": [
    "sc = StandardScaler()"
   ]
  },
  {
   "cell_type": "code",
   "execution_count": 63,
   "metadata": {},
   "outputs": [],
   "source": [
    "X_train = sc.fit_transform(X_train)\n",
    "X_test = sc.transform(X_test)"
   ]
  },
  {
   "cell_type": "markdown",
   "id": "d9bc0b44-1acb-47b7-b366-41b260fb3d48",
   "metadata": {},
   "source": [
    "## Ordinary Least Squares Regression with the Closed Form Solution <a class=\"anchor\" id=\"ols\"></a>:"
   ]
  },
  {
   "cell_type": "markdown",
   "id": "3aee41ce-4efa-4393-8407-be24383e33cc",
   "metadata": {},
   "source": [
    "Using the X_train and y_train vectors, calculate the coefficients for a simple OLS Regression by performing the matrix operations for the closed form solution we learned in class.\n",
    "\n",
    "Hint: In order for us to have an intercept in the regression (usually this is something we want), you will have to add a column of ones to X_train. You can do this with the code `X_train = np.hstack((np.ones_like(y_train), X_train))`\n"
   ]
  },
  {
   "cell_type": "code",
   "execution_count": 64,
   "metadata": {},
   "outputs": [],
   "source": [
    "X_train = np.hstack((np.ones_like(y_train), X_train))"
   ]
  },
  {
   "cell_type": "code",
   "execution_count": 79,
   "metadata": {},
   "outputs": [],
   "source": [
    "# beta_hat = ( X.transpose * X ) ^ -1 * X.transpose y\n",
    "beta_hat =  np.linalg.inv( np.transpose(X_train) @ X_train ) @ np.transpose(X_train) @ y_train"
   ]
  },
  {
   "cell_type": "code",
   "execution_count": 80,
   "metadata": {},
   "outputs": [
    {
     "data": {
      "text/plain": [
       "array([[10.47468354],\n",
       "       [ 3.45835217]])"
      ]
     },
     "execution_count": 80,
     "metadata": {},
     "output_type": "execute_result"
    }
   ],
   "source": [
    "beta_hat"
   ]
  },
  {
   "cell_type": "markdown",
   "metadata": {},
   "source": [
    "Use these coefficients to caclulate the predicted y-values.\n",
    "\n",
    "Hint: You will once again have to add a vector of ones"
   ]
  },
  {
   "cell_type": "code",
   "execution_count": 81,
   "metadata": {},
   "outputs": [],
   "source": [
    "X_test = np.hstack((np.ones_like(y_test), X_test))"
   ]
  },
  {
   "cell_type": "code",
   "execution_count": 84,
   "metadata": {},
   "outputs": [
    {
     "data": {
      "text/plain": [
       "array([[ 1.        ,  0.94725679],\n",
       "       [ 1.        ,  0.0271754 ],\n",
       "       [ 1.        , -0.58621219],\n",
       "       [ 1.        ,  1.56064438],\n",
       "       [ 1.        ,  1.25395058],\n",
       "       [ 1.        ,  0.64056299],\n",
       "       [ 1.        ,  0.3338692 ],\n",
       "       [ 1.        , -0.2795184 ],\n",
       "       [ 1.        , -0.89290599],\n",
       "       [ 1.        ,  1.56064438],\n",
       "       [ 1.        , -0.89290599],\n",
       "       [ 1.        ,  0.0271754 ],\n",
       "       [ 1.        ,  0.0271754 ],\n",
       "       [ 1.        , -1.19959979],\n",
       "       [ 1.        ,  0.94725679],\n",
       "       [ 1.        ,  0.94725679],\n",
       "       [ 1.        , -0.2795184 ],\n",
       "       [ 1.        , -0.58621219],\n",
       "       [ 1.        , -0.2795184 ],\n",
       "       [ 1.        ,  0.94725679],\n",
       "       [ 1.        , -1.50629358],\n",
       "       [ 1.        , -1.50629358],\n",
       "       [ 1.        , -1.19959979],\n",
       "       [ 1.        ,  0.64056299],\n",
       "       [ 1.        ,  0.3338692 ],\n",
       "       [ 1.        ,  1.25395058],\n",
       "       [ 1.        , -0.58621219],\n",
       "       [ 1.        ,  2.17403197],\n",
       "       [ 1.        ,  0.0271754 ],\n",
       "       [ 1.        , -0.2795184 ],\n",
       "       [ 1.        , -1.81298738],\n",
       "       [ 1.        , -0.89290599],\n",
       "       [ 1.        , -0.58621219],\n",
       "       [ 1.        , -1.50629358],\n",
       "       [ 1.        ,  0.94725679],\n",
       "       [ 1.        ,  0.3338692 ],\n",
       "       [ 1.        , -0.2795184 ],\n",
       "       [ 1.        ,  1.86733818],\n",
       "       [ 1.        , -0.89290599],\n",
       "       [ 1.        ,  0.3338692 ],\n",
       "       [ 1.        , -1.81298738],\n",
       "       [ 1.        ,  2.17403197],\n",
       "       [ 1.        , -0.58621219],\n",
       "       [ 1.        , -1.19959979],\n",
       "       [ 1.        , -0.2795184 ],\n",
       "       [ 1.        , -1.81298738],\n",
       "       [ 1.        ,  0.0271754 ],\n",
       "       [ 1.        , -1.50629358],\n",
       "       [ 1.        ,  0.3338692 ],\n",
       "       [ 1.        , -1.81298738],\n",
       "       [ 1.        ,  0.0271754 ],\n",
       "       [ 1.        ,  1.56064438],\n",
       "       [ 1.        ,  0.0271754 ],\n",
       "       [ 1.        , -0.2795184 ],\n",
       "       [ 1.        ,  0.3338692 ],\n",
       "       [ 1.        , -0.89290599],\n",
       "       [ 1.        ,  0.0271754 ],\n",
       "       [ 1.        ,  0.3338692 ],\n",
       "       [ 1.        ,  0.64056299],\n",
       "       [ 1.        ,  0.64056299],\n",
       "       [ 1.        ,  0.64056299],\n",
       "       [ 1.        ,  1.25395058],\n",
       "       [ 1.        ,  0.94725679],\n",
       "       [ 1.        ,  1.86733818],\n",
       "       [ 1.        , -0.2795184 ],\n",
       "       [ 1.        ,  1.25395058],\n",
       "       [ 1.        ,  2.17403197],\n",
       "       [ 1.        ,  1.25395058],\n",
       "       [ 1.        , -1.50629358],\n",
       "       [ 1.        , -0.2795184 ],\n",
       "       [ 1.        , -0.89290599],\n",
       "       [ 1.        ,  0.64056299],\n",
       "       [ 1.        , -1.19959979],\n",
       "       [ 1.        , -1.50629358],\n",
       "       [ 1.        , -0.2795184 ],\n",
       "       [ 1.        , -1.19959979],\n",
       "       [ 1.        , -0.58621219],\n",
       "       [ 1.        ,  1.86733818],\n",
       "       [ 1.        , -1.50629358]])"
      ]
     },
     "execution_count": 84,
     "metadata": {},
     "output_type": "execute_result"
    }
   ],
   "source": [
    "X_test"
   ]
  },
  {
   "cell_type": "code",
   "execution_count": 97,
   "metadata": {},
   "outputs": [],
   "source": [
    "y_pred = X_test @ beta_hat"
   ]
  },
  {
   "cell_type": "markdown",
   "id": "583602f3-d888-4f14-8a9a-ade4eb2cac48",
   "metadata": {},
   "source": [
    "Bonus: It's even better to define a function to do this. Can you make one which takes X_train and y_train as inputs and gives the betas and the predictions as outputs."
   ]
  },
  {
   "cell_type": "code",
   "execution_count": 98,
   "id": "de7a769a-7bdf-414d-987e-71ac631a4c8c",
   "metadata": {},
   "outputs": [
    {
     "data": {
      "text/plain": [
       "array([[-2.49368882e-01],\n",
       "       [ 5.68665647e-01],\n",
       "       [-5.52644667e-01],\n",
       "       [ 8.71941432e-01],\n",
       "       [-1.18871372e+00],\n",
       "       [ 6.89975961e-01],\n",
       "       [-2.37067920e+00],\n",
       "       [-1.49198951e+00],\n",
       "       [-1.61329982e+00],\n",
       "       [ 8.71941432e-01],\n",
       "       [-2.61329982e+00],\n",
       "       [-4.31334353e-01],\n",
       "       [ 5.68665647e-01],\n",
       "       [-1.67395498e+00],\n",
       "       [-1.24936888e+00],\n",
       "       [-2.49368882e-01],\n",
       "       [-2.49198951e+00],\n",
       "       [ 8.44735533e+00],\n",
       "       [-4.91989510e-01],\n",
       "       [-2.24936888e+00],\n",
       "       [ 5.26538986e+00],\n",
       "       [ 5.26538986e+00],\n",
       "       [-1.67395498e+00],\n",
       "       [-3.31002404e+00],\n",
       "       [-3.70679196e-01],\n",
       "       [-1.88713725e-01],\n",
       "       [-1.55264467e+00],\n",
       "       [-1.00674825e+00],\n",
       "       [ 1.05686656e+01],\n",
       "       [-4.49198951e+00],\n",
       "       [ 4.20473470e+00],\n",
       "       [-2.61329982e+00],\n",
       "       [ 4.47355333e-01],\n",
       "       [ 1.26538986e+00],\n",
       "       [ 7.50631118e-01],\n",
       "       [ 1.62932080e+00],\n",
       "       [-3.49198951e+00],\n",
       "       [-1.06740341e+00],\n",
       "       [-6.13299824e-01],\n",
       "       [ 6.29320804e-01],\n",
       "       [-1.79526530e+00],\n",
       "       [-6.74825359e-03],\n",
       "       [ 4.47355333e-01],\n",
       "       [-1.67395498e+00],\n",
       "       [-1.49198951e+00],\n",
       "       [ 4.20473470e+00],\n",
       "       [-2.43133435e+00],\n",
       "       [ 5.26538986e+00],\n",
       "       [-1.37067920e+00],\n",
       "       [-2.79526530e+00],\n",
       "       [ 5.68665647e-01],\n",
       "       [-2.12805857e+00],\n",
       "       [ 5.68665647e-01],\n",
       "       [ 5.08010490e-01],\n",
       "       [ 6.29320804e-01],\n",
       "       [ 1.38670018e+00],\n",
       "       [ 1.56866565e+00],\n",
       "       [-1.37067920e+00],\n",
       "       [-2.31002404e+00],\n",
       "       [-1.31002404e+00],\n",
       "       [-1.31002404e+00],\n",
       "       [-1.88713725e-01],\n",
       "       [-2.49368882e-01],\n",
       "       [ 1.93259659e+00],\n",
       "       [ 9.50801049e+00],\n",
       "       [-1.88713725e-01],\n",
       "       [-1.00674825e+00],\n",
       "       [ 2.81128628e+00],\n",
       "       [-7.34610139e-01],\n",
       "       [ 5.08010490e-01],\n",
       "       [-6.13299824e-01],\n",
       "       [-2.31002404e+00],\n",
       "       [ 1.32604502e+00],\n",
       "       [ 5.26538986e+00],\n",
       "       [ 5.08010490e-01],\n",
       "       [ 6.32604502e+00],\n",
       "       [-2.55264467e+00],\n",
       "       [-1.06740341e+00],\n",
       "       [ 5.26538986e+00]])"
      ]
     },
     "execution_count": 98,
     "metadata": {},
     "output_type": "execute_result"
    }
   ],
   "source": [
    "y_pred - y_test\n"
   ]
  },
  {
   "cell_type": "code",
   "execution_count": null,
   "id": "65c375b1-d0a2-4016-9a39-cc72f9156dfc",
   "metadata": {},
   "outputs": [],
   "source": []
  },
  {
   "cell_type": "markdown",
   "id": "445a09b2-f72d-40bb-8e71-61774735ce2c",
   "metadata": {},
   "source": [
    "### Calculate Coefficients using Statsmodels"
   ]
  },
  {
   "cell_type": "markdown",
   "metadata": {},
   "source": [
    "Now we will use statsmodels inbuilt functionalities to calculate fit the model and calculate the predictions. I have included the code here, run it and make sure you understand it as many of the different models we will fit in this course will use similar syntax."
   ]
  },
  {
   "cell_type": "code",
   "execution_count": 99,
   "id": "248e3416-96da-4a16-8750-f8c15fbb8eb0",
   "metadata": {},
   "outputs": [],
   "source": [
    "# We can also add intercept terms using statsmodels.\n",
    "X_train_sm = sm.add_constant(X_train)\n",
    "X_test_sm = sm.add_constant(X_test)\n",
    "\n",
    "# Define and fit the model\n",
    "model = sm.OLS(y_train, X_train_sm).fit()\n",
    "\n",
    "# Predictions using statsmodels\n",
    "predictions_statsmodels = model.predict(X_test_sm)"
   ]
  },
  {
   "cell_type": "code",
   "execution_count": 101,
   "id": "8f630f65-a423-4838-94ef-081ca05abdd0",
   "metadata": {},
   "outputs": [
    {
     "name": "stdout",
     "output_type": "stream",
     "text": [
      "Coefficients from closed-form solution: [[10.47468354]\n",
      " [ 3.45835217]]\n",
      "Coefficients from statsmodels: [10.47468354  3.45835217]\n"
     ]
    }
   ],
   "source": [
    "print(\"Coefficients from closed-form solution:\", beta_hat)\n",
    "print(\"Coefficients from statsmodels:\", model.params)"
   ]
  },
  {
   "cell_type": "markdown",
   "metadata": {},
   "source": [
    "If everything went well they should be the same."
   ]
  },
  {
   "cell_type": "markdown",
   "id": "b1502ae7-f035-4f0f-84a4-60faa8b2ce04",
   "metadata": {},
   "source": [
    "#### Calculate MSE for the Models:\n"
   ]
  },
  {
   "cell_type": "markdown",
   "metadata": {},
   "source": [
    "Now let's calculate the MSE for the models using the mean_squared_error function from sklearn.metrics. It takes the form: `mean_squared_error(y_test, predictions_from_model)`"
   ]
  },
  {
   "cell_type": "code",
   "execution_count": 105,
   "id": "fe2da20a-b4ad-44e9-ad4e-42f6068bea42",
   "metadata": {},
   "outputs": [
    {
     "name": "stdout",
     "output_type": "stream",
     "text": [
      "MSE of statsmodel 8.38800753657445\n",
      "MSE_closedform 8.38800753657445\n"
     ]
    }
   ],
   "source": [
    "from sklearn.metrics import mean_squared_error\n",
    "MSE_statsmodels = mean_squared_error(y_test, predictions_statsmodels)\n",
    "MSE_closedform = mean_squared_error(y_test, y_pred)\n",
    "print(\"MSE of statsmodel\", MSE_statsmodels)\n",
    "print(\"MSE_closedform\", MSE_closedform)"
   ]
  },
  {
   "cell_type": "markdown",
   "id": "fcc5a249-fcf0-4580-8f5c-7de6a1acd998",
   "metadata": {},
   "source": [
    "### Higher Dimensions"
   ]
  },
  {
   "cell_type": "markdown",
   "metadata": {},
   "source": [
    "We will now create polynomials of X_train and X_test to fit a polynomial regression model. We will use the PolynomialFeatures class from scikit-learn to create the polynomial features. See if you can figure out how to use this function to add the polynomial expansion of our explanatory variable even better if you can make a fucntion to do this."
   ]
  },
  {
   "cell_type": "markdown",
   "metadata": {},
   "source": []
  },
  {
   "cell_type": "code",
   "execution_count": 110,
   "metadata": {},
   "outputs": [
    {
     "data": {
      "text/plain": [
       "array([[ 1.        ,  1.        , -0.2795184 ,  1.        , -0.2795184 ,\n",
       "         0.07813053],\n",
       "       [ 1.        ,  1.        , -0.89290599,  1.        , -0.89290599,\n",
       "         0.79728111],\n",
       "       [ 1.        ,  1.        , -0.58621219,  1.        , -0.58621219,\n",
       "         0.34364474],\n",
       "       ...,\n",
       "       [ 1.        ,  1.        ,  0.64056299,  1.        ,  0.64056299,\n",
       "         0.41032095],\n",
       "       [ 1.        ,  1.        ,  2.48072577,  1.        ,  2.48072577,\n",
       "         6.15400035],\n",
       "       [ 1.        ,  1.        ,  0.64056299,  1.        ,  0.64056299,\n",
       "         0.41032095]])"
      ]
     },
     "execution_count": 110,
     "metadata": {},
     "output_type": "execute_result"
    }
   ],
   "source": [
    "from sklearn.preprocessing import PolynomialFeatures\n",
    "poly = PolynomialFeatures(2)\n",
    "poly.fit_transform(X_train)"
   ]
  },
  {
   "cell_type": "markdown",
   "metadata": {},
   "source": [
    "Now we can try create a plot of the mse values for each polynomial degree from 1 to 15."
   ]
  },
  {
   "cell_type": "code",
   "execution_count": null,
   "metadata": {},
   "outputs": [],
   "source": [
    "for i in range(16):\n",
    "    poly = PolynomialFeatures(i)\n",
    "    poly.fit_transform(X_train)\n",
    "    plt.plot(i, )"
   ]
  },
  {
   "cell_type": "markdown",
   "metadata": {},
   "source": [
    "Lets plot the polynomial regression model with degree 5, and compare it with the linear regression model."
   ]
  },
  {
   "cell_type": "code",
   "execution_count": null,
   "metadata": {},
   "outputs": [],
   "source": []
  },
  {
   "cell_type": "markdown",
   "metadata": {},
   "source": [
    "Based on the above graphs what do you think the best function for the relationship is? Are our polynomial terms adding value?"
   ]
  },
  {
   "cell_type": "markdown",
   "metadata": {},
   "source": []
  },
  {
   "cell_type": "markdown",
   "metadata": {},
   "source": [
    "Bonus: If you have time, try add some of the numerical variables we left out of X back in and see if you can make a better function."
   ]
  },
  {
   "cell_type": "code",
   "execution_count": null,
   "metadata": {},
   "outputs": [],
   "source": []
  }
 ],
 "metadata": {
  "kernelspec": {
   "display_name": "ml2025",
   "language": "python",
   "name": "python3"
  },
  "language_info": {
   "codemirror_mode": {
    "name": "ipython",
    "version": 3
   },
   "file_extension": ".py",
   "mimetype": "text/x-python",
   "name": "python",
   "nbconvert_exporter": "python",
   "pygments_lexer": "ipython3",
   "version": "3.11.11"
  }
 },
 "nbformat": 4,
 "nbformat_minor": 4
}
